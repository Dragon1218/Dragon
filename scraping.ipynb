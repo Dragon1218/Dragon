{
 "cells": [
  {
   "cell_type": "code",
   "execution_count": null,
   "metadata": {},
   "outputs": [],
   "source": [
    "# Install chromium, its driver, and selenium\n",
    "! apt-get update\n",
    "! apt install chromium-chromedriver\n",
    "! pip install selenium\n",
    "\n",
    "# Set up the path to the chromedriver executable\n",
    "import sys\n",
    "sys.path.insert(0,'/usr/lib/chromium-browser/chromedriver')"
   ]
  },
  {
   "cell_type": "code",
   "execution_count": null,
   "metadata": {},
   "outputs": [],
   "source": [
    "from selenium import webdriver\n",
    "from selenium.webdriver.chrome.options import Options\n",
    "from selenium.webdriver.common.by import By\n",
    "from selenium.webdriver.support.ui import WebDriverWait\n",
    "from selenium.webdriver.support import expected_conditions as EC\n",
    "\n",
    "def configure_chrome_options():\n",
    "    # Configure options to run Chrome in headless mode\n",
    "    options = Options()\n",
    "    options.add_argument('--headless')        # Runs Chrome in headless mode.\n",
    "    options.add_argument('--no-sandbox')      # Bypass OS security model\n",
    "    options.add_argument('--disable-dev-shm-usage')  # Overcome limited resource problems\n",
    "    return options\n",
    "\n",
    "\n",
    "def fetch_page_title(url):\n",
    "    # Instantiate a webdriver\n",
    "    options = configure_chrome_options()\n",
    "    driver = webdriver.Chrome(options=options)\n",
    "    # Navigate to the page\n",
    "    driver.get(url)\n",
    "\n",
    "    try:\n",
    "      wait = WebDriverWait(driver, 15)\n",
    "      # Assuming 'badge' class uniquely identifies the span with \"0 ether\"\n",
    "      # span_element = driver.find_element('css selector', 'span#total-balance')\n",
    "      span_element = wait.until(EC.visibility_of_element_located((By.CSS_SELECTOR, 'span#total-balance')))\n",
    "      text = span_element.text\n",
    "      return text\n",
    "    except Exception as e:\n",
    "      print(f\"An error occurred: {e}\")\n",
    "    finally:\n",
    "      driver.quit()\n",
    "\n",
    "# Usage example\n",
    "base_url = \"https://privatekeyfinder.io/private-keys/ethereum/\"\n",
    "for i in range(10):\n",
    "  url = base_url + str(i+1)\n",
    "  title = fetch_page_title(url)\n",
    "  print(f\"The title of the page {i} is:, {title}\")\n"
   ]
  }
 ],
 "metadata": {
  "language_info": {
   "name": "python"
  }
 },
 "nbformat": 4,
 "nbformat_minor": 2
}
